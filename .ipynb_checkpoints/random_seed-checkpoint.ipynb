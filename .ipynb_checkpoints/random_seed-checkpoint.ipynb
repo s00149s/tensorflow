{
 "cells": [
  {
   "cell_type": "markdown",
   "id": "b247baa3",
   "metadata": {},
   "source": [
    "### 랜덤하게 돌리는 seed의 난수를 고정시켜서 오늘 내일 같은 난수가 출력"
   ]
  },
  {
   "cell_type": "code",
   "execution_count": 10,
   "id": "7648c84b",
   "metadata": {},
   "outputs": [],
   "source": [
    "import random"
   ]
  },
  {
   "cell_type": "code",
   "execution_count": 11,
   "id": "908e435a",
   "metadata": {},
   "outputs": [],
   "source": [
    "random.seed(5)"
   ]
  },
  {
   "cell_type": "code",
   "execution_count": 12,
   "id": "ee834ca5",
   "metadata": {},
   "outputs": [
    {
     "name": "stdout",
     "output_type": "stream",
     "text": [
      "5\n",
      "3\n",
      "6\n",
      "3\n",
      "6\n"
     ]
    }
   ],
   "source": [
    "# 1 ~6 사이의 랜덤한 정수 5번 출력\n",
    "\n",
    "for _ in range(5):\n",
    "    print(random.randint(1,6))"
   ]
  },
  {
   "cell_type": "markdown",
   "id": "16d59f10",
   "metadata": {},
   "source": []
  }
 ],
 "metadata": {
  "kernelspec": {
   "display_name": "Python 3",
   "language": "python",
   "name": "python3"
  },
  "language_info": {
   "codemirror_mode": {
    "name": "ipython",
    "version": 3
   },
   "file_extension": ".py",
   "mimetype": "text/x-python",
   "name": "python",
   "nbconvert_exporter": "python",
   "pygments_lexer": "ipython3",
   "version": "3.8.11"
  }
 },
 "nbformat": 4,
 "nbformat_minor": 5
}
