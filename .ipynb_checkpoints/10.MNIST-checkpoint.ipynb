{
 "cells": [
  {
   "cell_type": "markdown",
   "id": "fbe54bd7",
   "metadata": {},
   "source": [
    "### 다중분류  \n",
    "- 숫자 이미지 프로세싱\n"
   ]
  },
  {
   "cell_type": "code",
   "execution_count": 1,
   "id": "2bde865b",
   "metadata": {},
   "outputs": [],
   "source": [
    "from tensorflow.keras.datasets import mnist\n",
    "import numpy as np\n",
    "import sys\n",
    "from tensorflow.keras.utils import to_categorical"
   ]
  },
  {
   "cell_type": "code",
   "execution_count": 2,
   "id": "1fe9f4a5",
   "metadata": {},
   "outputs": [
    {
     "name": "stdout",
     "output_type": "stream",
     "text": [
      "학습셋 이미지 수 : 60000개\n",
      "테스트셋 이미지 수 : 10000개\n"
     ]
    }
   ],
   "source": [
    "# 70,000개 중 학습에 사용될 부분 : train, 테스트에 사용될 부분 : test\n",
    "(X_train, y_train), (X_test, y_test) = mnist.load_data()\n",
    "print(\"학습셋 이미지 수 : %d개\" % (X_train.shape[0])) # 전체 로우 수 출력\n",
    "print(\"테스트셋 이미지 수 : %d개\" % (X_test.shape[0]))"
   ]
  },
  {
   "cell_type": "code",
   "execution_count": 3,
   "id": "cce4322a",
   "metadata": {},
   "outputs": [
    {
     "name": "stdout",
     "output_type": "stream",
     "text": [
      "(60000, 28, 28)\n",
      "(10000, 28, 28)\n"
     ]
    }
   ],
   "source": [
    "# row수, 가로픽셀, 세로픽셀\n",
    "print(X_train.shape)\n",
    "print(X_test.shape)"
   ]
  },
  {
   "cell_type": "code",
   "execution_count": 4,
   "id": "3b5fa998",
   "metadata": {},
   "outputs": [
    {
     "data": {
      "text/plain": [
       "<function matplotlib.pyplot.show(close=None, block=None)>"
      ]
     },
     "execution_count": 4,
     "metadata": {},
     "output_type": "execute_result"
    },
    {
     "data": {
      "image/png": "[encoded data removed]",
      "text/plain": [
       "<Figure size 432x288 with 1 Axes>"
      ]
     },
     "metadata": {
      "needs_background": "light"
     },
     "output_type": "display_data"
    }
   ],
   "source": [
    "import matplotlib.pyplot as plt\n",
    "plt.imshow(X_train[7], cmap='Greys') # 첫번째 데이터 확인\n",
    "plt.show"
   ]
  },
  {
   "cell_type": "code",
   "execution_count": 5,
   "id": "6bfc3be5",
   "metadata": {
    "scrolled": true
   },
   "outputs": [
    {
     "name": "stdout",
     "output_type": "stream",
     "text": [
      "0\t0\t0\t0\t0\t0\t0\t0\t0\t0\t0\t0\t0\t0\t0\t0\t0\t0\t0\t0\t0\t0\t0\t0\t0\t0\t0\t0\t\n",
      "0\t0\t0\t0\t0\t0\t0\t0\t0\t0\t0\t0\t0\t0\t0\t0\t0\t0\t0\t0\t0\t0\t0\t0\t0\t0\t0\t0\t\n",
      "0\t0\t0\t0\t0\t0\t0\t0\t0\t0\t0\t0\t0\t0\t0\t0\t0\t0\t0\t0\t0\t0\t0\t0\t0\t0\t0\t0\t\n",
      "0\t0\t0\t0\t0\t0\t0\t0\t0\t0\t0\t0\t0\t0\t0\t0\t0\t0\t0\t0\t0\t0\t0\t0\t0\t0\t0\t0\t\n",
      "0\t0\t0\t0\t0\t0\t0\t0\t0\t0\t0\t0\t0\t0\t0\t0\t0\t0\t0\t0\t0\t0\t0\t0\t0\t0\t0\t0\t\n",
      "0\t0\t0\t0\t0\t0\t0\t0\t0\t0\t0\t38\t43\t105\t255\t253\t253\t253\t253\t253\t174\t6\t0\t0\t0\t0\t0\t0\t\n",
      "0\t0\t0\t0\t0\t0\t0\t0\t0\t43\t139\t224\t226\t252\t253\t252\t252\t252\t252\t252\t252\t158\t14\t0\t0\t0\t0\t0\t\n",
      "0\t0\t0\t0\t0\t0\t0\t0\t0\t178\t252\t252\t252\t252\t253\t252\t252\t252\t252\t252\t252\t252\t59\t0\t0\t0\t0\t0\t\n",
      "0\t0\t0\t0\t0\t0\t0\t0\t0\t109\t252\t252\t230\t132\t133\t132\t132\t189\t252\t252\t252\t252\t59\t0\t0\t0\t0\t0\t\n",
      "0\t0\t0\t0\t0\t0\t0\t0\t0\t4\t29\t29\t24\t0\t0\t0\t0\t14\t226\t252\t252\t172\t7\t0\t0\t0\t0\t0\t\n",
      "0\t0\t0\t0\t0\t0\t0\t0\t0\t0\t0\t0\t0\t0\t0\t0\t0\t85\t243\t252\t252\t144\t0\t0\t0\t0\t0\t0\t\n",
      "0\t0\t0\t0\t0\t0\t0\t0\t0\t0\t0\t0\t0\t0\t0\t0\t88\t189\t252\t252\t252\t14\t0\t0\t0\t0\t0\t0\t\n",
      "0\t0\t0\t0\t0\t0\t0\t0\t0\t0\t0\t0\t0\t0\t91\t212\t247\t252\t252\t252\t204\t9\t0\t0\t0\t0\t0\t0\t\n",
      "0\t0\t0\t0\t0\t0\t0\t0\t0\t32\t125\t193\t193\t193\t253\t252\t252\t252\t238\t102\t28\t0\t0\t0\t0\t0\t0\t0\t\n",
      "0\t0\t0\t0\t0\t0\t0\t0\t45\t222\t252\t252\t252\t252\t253\t252\t252\t252\t177\t0\t0\t0\t0\t0\t0\t0\t0\t0\t\n",
      "0\t0\t0\t0\t0\t0\t0\t0\t45\t223\t253\t253\t253\t253\t255\t253\t253\t253\t253\t74\t0\t0\t0\t0\t0\t0\t0\t0\t\n",
      "0\t0\t0\t0\t0\t0\t0\t0\t0\t31\t123\t52\t44\t44\t44\t44\t143\t252\t252\t74\t0\t0\t0\t0\t0\t0\t0\t0\t\n",
      "0\t0\t0\t0\t0\t0\t0\t0\t0\t0\t0\t0\t0\t0\t0\t0\t15\t252\t252\t74\t0\t0\t0\t0\t0\t0\t0\t0\t\n",
      "0\t0\t0\t0\t0\t0\t0\t0\t0\t0\t0\t0\t0\t0\t0\t0\t86\t252\t252\t74\t0\t0\t0\t0\t0\t0\t0\t0\t\n",
      "0\t0\t0\t0\t0\t0\t5\t75\t9\t0\t0\t0\t0\t0\t0\t98\t242\t252\t252\t74\t0\t0\t0\t0\t0\t0\t0\t0\t\n",
      "0\t0\t0\t0\t0\t61\t183\t252\t29\t0\t0\t0\t0\t18\t92\t239\t252\t252\t243\t65\t0\t0\t0\t0\t0\t0\t0\t0\t\n",
      "0\t0\t0\t0\t0\t208\t252\t252\t147\t134\t134\t134\t134\t203\t253\t252\t252\t188\t83\t0\t0\t0\t0\t0\t0\t0\t0\t0\t\n",
      "0\t0\t0\t0\t0\t208\t252\t252\t252\t252\t252\t252\t252\t252\t253\t230\t153\t8\t0\t0\t0\t0\t0\t0\t0\t0\t0\t0\t\n",
      "0\t0\t0\t0\t0\t49\t157\t252\t252\t252\t252\t252\t217\t207\t146\t45\t0\t0\t0\t0\t0\t0\t0\t0\t0\t0\t0\t0\t\n",
      "0\t0\t0\t0\t0\t0\t7\t103\t235\t252\t172\t103\t24\t0\t0\t0\t0\t0\t0\t0\t0\t0\t0\t0\t0\t0\t0\t0\t\n",
      "0\t0\t0\t0\t0\t0\t0\t0\t0\t0\t0\t0\t0\t0\t0\t0\t0\t0\t0\t0\t0\t0\t0\t0\t0\t0\t0\t0\t\n",
      "0\t0\t0\t0\t0\t0\t0\t0\t0\t0\t0\t0\t0\t0\t0\t0\t0\t0\t0\t0\t0\t0\t0\t0\t0\t0\t0\t0\t\n",
      "0\t0\t0\t0\t0\t0\t0\t0\t0\t0\t0\t0\t0\t0\t0\t0\t0\t0\t0\t0\t0\t0\t0\t0\t0\t0\t0\t0\t\n"
     ]
    }
   ],
   "source": [
    "# 28 x 28 픽셀 루프로 값 확인\n",
    "# 0부터 255까지 밝기 정도에 따라 값 출력됨\n",
    "for x in X_train[7]: \n",
    "    for i in x:\n",
    "        sys.stdout.write('%d\\t' % i)\n",
    "    sys.stdout.write('\\n')"
   ]
  },
  {
   "cell_type": "code",
   "execution_count": 6,
   "id": "d6339e58",
   "metadata": {},
   "outputs": [],
   "source": [
    "# 28 x 28을 784개의 1차원 배열로 바꿔주기\n",
    "# reshape(총 샘플 수, 1차원 속성의 수)\n",
    "X_train = X_train.reshape(X_train.shape[0], -1)\n",
    "X_train = X_train.astype(float)\n",
    "# 0 ~ 1 사이의 수로 스케일링 해주기\n",
    "X_train = X_train / 255\n",
    "\n",
    "# 테스트 데이터도 훈련데이터와 똑같이 \n",
    "X_test = X_test.reshape(X_test.shape[0], -1).astype(float) / 255"
   ]
  },
  {
   "cell_type": "code",
   "execution_count": 7,
   "id": "130da306",
   "metadata": {},
   "outputs": [
    {
     "name": "stdout",
     "output_type": "stream",
     "text": [
      "(60000, 784) (10000, 784)\n"
     ]
    }
   ],
   "source": [
    "print(X_train.shape, X_test.shape)"
   ]
  },
  {
   "cell_type": "code",
   "execution_count": 8,
   "id": "df645931",
   "metadata": {},
   "outputs": [
    {
     "name": "stdout",
     "output_type": "stream",
     "text": [
      "target : 3\n"
     ]
    }
   ],
   "source": [
    "print(\"target : %d\" % (y_train[7])) # 하나만 찍어내기"
   ]
  },
  {
   "cell_type": "markdown",
   "id": "10379954",
   "metadata": {},
   "source": [
    "### to categorical  \n",
    "- 3 -> [0, 0, 0, 1, 0, 0, 0, 0, 0, 0]  \n",
    "- 마지막에 softmax함수 쓸 수 있도록 변환"
   ]
  },
  {
   "cell_type": "code",
   "execution_count": 9,
   "id": "9d8a910e",
   "metadata": {},
   "outputs": [
    {
     "name": "stdout",
     "output_type": "stream",
     "text": [
      "[0. 0. 0. 1. 0. 0. 0. 0. 0. 0.]\n"
     ]
    }
   ],
   "source": [
    "y_train = to_categorical(y_train, 10)\n",
    "y_test = to_categorical(y_test, 10)\n",
    "print(y_train[7])"
   ]
  },
  {
   "cell_type": "code",
   "execution_count": 10,
   "id": "972cd283",
   "metadata": {},
   "outputs": [],
   "source": [
    "from tensorflow.keras.models import Sequential\n",
    "from tensorflow.keras.layers import Dense"
   ]
  },
  {
   "cell_type": "code",
   "execution_count": 11,
   "id": "c68ee378",
   "metadata": {},
   "outputs": [],
   "source": [
    "model = Sequential()\n",
    "model.add(Dense(512, input_dim=784, activation='relu')) # 28x28 픽셀 수 input\n",
    "model.add(Dense(10, activation='softmax')) # 0 ~ 9 총 10개 "
   ]
  },
  {
   "cell_type": "code",
   "execution_count": 12,
   "id": "308697f1",
   "metadata": {},
   "outputs": [
    {
     "name": "stdout",
     "output_type": "stream",
     "text": [
      "Model: \"sequential\"\n",
      "_________________________________________________________________\n",
      "Layer (type)                 Output Shape              Param #   \n",
      "=================================================================\n",
      "dense (Dense)                (None, 512)               401920    \n",
      "_________________________________________________________________\n",
      "dense_1 (Dense)              (None, 10)                5130      \n",
      "=================================================================\n",
      "Total params: 407,050\n",
      "Trainable params: 407,050\n",
      "Non-trainable params: 0\n",
      "_________________________________________________________________\n"
     ]
    }
   ],
   "source": [
    "model.summary()"
   ]
  },
  {
   "cell_type": "code",
   "execution_count": 13,
   "id": "a4b55932",
   "metadata": {},
   "outputs": [],
   "source": [
    "# 모델 컴파일\n",
    "import os\n",
    "model.compile(loss='categorical_crossentropy',\\\n",
    "             optimizer='adam',\\\n",
    "             metrics=['accuracy'])\n",
    "\n",
    "# 모델 폴더에 model저장\n",
    "from tensorflow.keras.callbacks import ModelCheckpoint, EarlyStopping\n",
    "MODEL_DIR = './model/'\n",
    "if not os.path.exists(MODEL_DIR):\n",
    "    os.mkdir(MODEL_DIR)\n",
    "    \n",
    "modelpath='./model/{epoch:02d}-{val_loss:.4f}.hdf5'\n",
    "checkpointer = ModelCheckpoint(filepath=modelpath,\\\n",
    "                              monitor='val_loss',\\\n",
    "                              verbose=1, save_best_only=True)\n",
    "\n",
    "early_stopping_callback = EarlyStopping(monitor='val_loss', patience=10)"
   ]
  },
  {
   "cell_type": "code",
   "execution_count": 14,
   "id": "12c363ad",
   "metadata": {},
   "outputs": [
    {
     "name": "stdout",
     "output_type": "stream",
     "text": [
      "\n",
      "Epoch 00001: val_loss improved from inf to 0.15683, saving model to ./model\\01-0.1568.hdf5\n",
      "\n",
      "Epoch 00002: val_loss improved from 0.15683 to 0.10588, saving model to ./model\\02-0.1059.hdf5\n",
      "\n",
      "Epoch 00003: val_loss improved from 0.10588 to 0.08607, saving model to ./model\\03-0.0861.hdf5\n",
      "\n",
      "Epoch 00004: val_loss improved from 0.08607 to 0.07232, saving model to ./model\\04-0.0723.hdf5\n",
      "\n",
      "Epoch 00005: val_loss improved from 0.07232 to 0.06626, saving model to ./model\\05-0.0663.hdf5\n",
      "\n",
      "Epoch 00006: val_loss improved from 0.06626 to 0.06343, saving model to ./model\\06-0.0634.hdf5\n",
      "\n",
      "Epoch 00007: val_loss improved from 0.06343 to 0.06285, saving model to ./model\\07-0.0629.hdf5\n",
      "\n",
      "Epoch 00008: val_loss improved from 0.06285 to 0.05976, saving model to ./model\\08-0.0598.hdf5\n",
      "\n",
      "Epoch 00009: val_loss improved from 0.05976 to 0.05942, saving model to ./model\\09-0.0594.hdf5\n",
      "\n",
      "Epoch 00010: val_loss did not improve from 0.05942\n",
      "\n",
      "Epoch 00011: val_loss did not improve from 0.05942\n",
      "\n",
      "Epoch 00012: val_loss did not improve from 0.05942\n",
      "\n",
      "Epoch 00013: val_loss did not improve from 0.05942\n",
      "\n",
      "Epoch 00014: val_loss did not improve from 0.05942\n",
      "\n",
      "Epoch 00015: val_loss did not improve from 0.05942\n",
      "\n",
      "Epoch 00016: val_loss did not improve from 0.05942\n",
      "\n",
      "Epoch 00017: val_loss did not improve from 0.05942\n",
      "\n",
      "Epoch 00018: val_loss did not improve from 0.05942\n",
      "\n",
      "Epoch 00019: val_loss did not improve from 0.05942\n"
     ]
    }
   ],
   "source": [
    "history = model.fit(X_train, y_train, \n",
    "                    validation_data=\\\n",
    "                   (X_test, y_test), epochs=30, batch_size=200, verbose=0,\\ # epoch 30번 \n",
    "                   callbacks=[early_stopping_callback,\\\n",
    "                             checkpointer])"
   ]
  },
  {
   "cell_type": "code",
   "execution_count": 15,
   "id": "e726b787",
   "metadata": {},
   "outputs": [
    {
     "name": "stdout",
     "output_type": "stream",
     "text": [
      "313/313 [==============================] - 1s 4ms/step - loss: 0.0724 - accuracy: 0.9816\n",
      "\n",
      " Test Accuracy: 0.9816\n"
     ]
    }
   ],
   "source": [
    "# 정확도\n",
    "print(\"\\n Test Accuracy: %.4f\" % (model.evaluate(X_test, y_test)[1]))"
   ]
  },
  {
   "cell_type": "code",
   "execution_count": 17,
   "id": "53037fed",
   "metadata": {},
   "outputs": [
    {
     "data": {
      "image/png": "[encoded data removed]",
      "text/plain": [
       "<Figure size 432x288 with 1 Axes>"
      ]
     },
     "metadata": {
      "needs_background": "light"
     },
     "output_type": "display_data"
    }
   ],
   "source": [
    "# 오차 변수 선언\n",
    "y_vloss = history.history['val_loss'] # test데이터의 loss(오차)\n",
    "y_loss = history.history['loss'] # train 데이터의 loss\n",
    "\n",
    "# 그래프 그려보기\n",
    "X_len = np.arange(len(y_loss))\n",
    "plt.plot(X_len, y_vloss, marker='.', c='red',\\\n",
    "        label='Testset_loss')\n",
    "plt.plot(X_len, y_loss, marker='.', c='blue',\\\n",
    "        label='Trainset_loss')\n",
    "\n",
    "plt.legend(loc='upper right')\n",
    "plt.grid()\n",
    "plt.xlabel('epoch')\n",
    "plt.ylabel('loss')\n",
    "plt.show()\n"
   ]
  },
  {
   "cell_type": "markdown",
   "id": "4cf775fd",
   "metadata": {},
   "source": [
    "- 학습셋에 대한 오차는 계속해서 줄어듬  \n",
    "- 테스트셋의 과적합이 일어나기 전 학습을 끝낸 모습  "
   ]
  },
  {
   "cell_type": "code",
   "execution_count": null,
   "id": "9c4ca5ec",
   "metadata": {},
   "outputs": [],
   "source": []
  }
 ],
 "metadata": {
  "kernelspec": {
   "display_name": "Python 3",
   "language": "python",
   "name": "python3"
  },
  "language_info": {
   "codemirror_mode": {
    "name": "ipython",
    "version": 3
   },
   "file_extension": ".py",
   "mimetype": "text/x-python",
   "name": "python",
   "nbconvert_exporter": "python",
   "pygments_lexer": "ipython3",
   "version": "3.8.11"
  }
 },
 "nbformat": 4,
 "nbformat_minor": 5
}
